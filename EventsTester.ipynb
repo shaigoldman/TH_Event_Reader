{
 "cells": [
  {
   "cell_type": "code",
   "execution_count": null,
   "metadata": {},
   "outputs": [],
   "source": [
    "from tqdm.notebook import tqdm\n",
    "from matplotlib import pyplot as plt\n",
    "from th_eventreader import TH_EventReader as py_reader\n",
    "from th_eventreader import MatEventReader as mat_reader\n",
    "import pandas as pd\n",
    "pd.set_option('display.max_columns', None)"
   ]
  },
  {
   "cell_type": "code",
   "execution_count": null,
   "metadata": {},
   "outputs": [],
   "source": [
    "import warnings\n",
    "warnings.filterwarnings('error')\n",
    "exp_df = py_reader.exp_df()\n",
    "row = exp_df.iloc[8]\n",
    "events = py_reader.get_events(**row, recalc=True)"
   ]
  },
  {
   "cell_type": "code",
   "execution_count": null,
   "metadata": {},
   "outputs": [],
   "source": [
    "row.pop('session')\n",
    "mat_events = mat_reader.get_events_from_mat(**row)\n",
    "mat_events = mat_events[mat_events['session']==events['original_session_ID'].iloc[0]]"
   ]
  },
  {
   "cell_type": "code",
   "execution_count": null,
   "metadata": {},
   "outputs": [],
   "source": [
    "events[['mstime', 'pathInfo', 'session', 'original_session_ID']][50:55]"
   ]
  },
  {
   "cell_type": "code",
   "execution_count": null,
   "metadata": {},
   "outputs": [],
   "source": [
    "mat_events[['mstime', 'pathInfo', 'session']][50:55]"
   ]
  },
  {
   "cell_type": "code",
   "execution_count": null,
   "metadata": {},
   "outputs": [],
   "source": [
    "#event 0 is seomtimes SESS_START event which doesnt show up in pyhton\n",
    "mat_events = mat_events[mat_events['type']!='SESS_START'] \n",
    "mat_events.index = range(len(mat_events))"
   ]
  },
  {
   "cell_type": "code",
   "execution_count": null,
   "metadata": {},
   "outputs": [],
   "source": [
    "py_path = events['pathInfo']\n",
    "mat_path = mat_events['pathInfo']"
   ]
  },
  {
   "cell_type": "code",
   "execution_count": null,
   "metadata": {},
   "outputs": [],
   "source": [
    "start = 50"
   ]
  },
  {
   "cell_type": "code",
   "execution_count": null,
   "metadata": {},
   "outputs": [],
   "source": [
    "fig, axes = plt.subplots(5, 5, figsize=(20, 10))\n",
    "for i in range(25):\n",
    "    pp = py_path.iloc[i+start]\n",
    "    mp = mat_path.iloc[i+start]\n",
    "    axes[int(i/5), i%5].plot(\n",
    "        [p['x'] for p in pp], [p['y'] for p in pp], \n",
    "        linewidth=5, color='blue', alpha=.5)\n",
    "    axes[int(i/5), i%5].plot(\n",
    "        [p['x'] for p in mp], [p['y'] for p in mp], \n",
    "        linewidth=5, color='red', alpha=.5)"
   ]
  },
  {
   "cell_type": "code",
   "execution_count": null,
   "metadata": {},
   "outputs": [],
   "source": [
    "subj = 'R1289C'\n",
    "montage = 0\n",
    "session = 3\n",
    "events = py_reader.get_events(subj, montage, session, 'TH1', recalc=True)\n"
   ]
  },
  {
   "cell_type": "code",
   "execution_count": null,
   "metadata": {},
   "outputs": [],
   "source": [
    "colors_list=('blue', 'black', 'red', 'purple', 'orange', 'lightblue',\n",
    "        'pink', 'grey', 'green', 'brown')\n",
    "\n",
    "cevents = events[events['type']=='CHEST']\n",
    "\n",
    "for j in range(5, 10):\n",
    "    colors = (i for i in colors_list)\n",
    "    for i in range(0+j*5, 5+j*5):\n",
    "        color = next(colors)\n",
    "        plt.plot([t['mstime'] for t in cevents.iloc[i]['pathInfo']],\n",
    "                 [t['heading'] for t in cevents.iloc[i]['pathInfo']], \n",
    "                 label=i, color=color)\n",
    "        plt.axvline(cevents.iloc[i]['mstime'], linestyle='--', label=i, color=color)\n",
    "    plt.show()"
   ]
  },
  {
   "cell_type": "code",
   "execution_count": null,
   "metadata": {},
   "outputs": [],
   "source": [
    "for i, row in exp_df.iterrows():\n",
    "    print([key for key in row], end=' -> ')\n",
    "    try:\n",
    "        events = py_reader.get_events(**row, recalc=True)\n",
    "        print('Success!')\n",
    "    except FileNotFoundError as e:\n",
    "        print(e)"
   ]
  },
  {
   "cell_type": "code",
   "execution_count": null,
   "metadata": {},
   "outputs": [],
   "source": []
  }
 ],
 "metadata": {
  "kernelspec": {
   "display_name": "pgo_env",
   "language": "python",
   "name": "pgo_env"
  },
  "language_info": {
   "codemirror_mode": {
    "name": "ipython",
    "version": 3
   },
   "file_extension": ".py",
   "mimetype": "text/x-python",
   "name": "python",
   "nbconvert_exporter": "python",
   "pygments_lexer": "ipython3",
   "version": "3.6.10"
  }
 },
 "nbformat": 4,
 "nbformat_minor": 4
}
